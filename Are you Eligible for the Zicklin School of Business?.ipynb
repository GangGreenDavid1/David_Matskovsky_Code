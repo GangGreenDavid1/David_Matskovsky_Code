{
 "cells": [
  {
   "cell_type": "code",
   "execution_count": 13,
   "metadata": {},
   "outputs": [
    {
     "name": "stdout",
     "output_type": "stream",
     "text": [
      "Have you completed COM 1010? y/n: y\n",
      "Have you completed ENG 2150? y/n: y\n",
      "You have not satisfied the communication requirements!\n",
      "Enter your numeric grade for ACC 2101 4\n",
      "Enter your numeric grade for CIS 2200 3\n",
      "Enter your numeric grade for ECO 1001 2.7\n",
      "Enter your numeric grade for ECO 1002 4\n",
      "Enter your numeric grade for ENG 2101 4\n",
      "Enter your numeric grade for LAW 1101 3\n",
      "Enter your numeric grade for one calculus course 4\n",
      "Enter your numeric grade for STA 2000 3\n",
      "That was hard work! Your average GPA is  3.46\n",
      "How many credits did you complete? 46\n",
      "What is your overall Baruch GPA? 3.1\n",
      "You are eligible to enter Zicklin! Congratulations!\n"
     ]
    }
   ],
   "source": [
    "com_course = (input(\"Have you completed COM 1010? y/n:\"))\n",
    "eng_course = (input(\"Have you completed ENG 2150? y/n:\"))\n",
    "\n",
    "if (com_course == \"y\"):\n",
    "    if (eng_course == \"y\"):\n",
    "        print (\"Ok good work! You have satisfied the communication requirement\")\n",
    "else:\n",
    "    print(\"You have not satisfied the communication requirements!\")\n",
    "    \n",
    "acc_grade = (float(input(\"Enter your numeric grade for ACC 2101\")))\n",
    "cis_grade = (float(input(\"Enter your numeric grade for CIS 2200\")))\n",
    "eco1_grade = (float(input(\"Enter your numeric grade for ECO 1001\")))\n",
    "eco2_grade = (float(input(\"Enter your numeric grade for ECO 1002\")))\n",
    "eng_grade = (float(input(\"Enter your numeric grade for ENG 2101\")))\n",
    "law_grade = (float(input(\"Enter your numeric grade for LAW 1101\")))\n",
    "cal_grade = (float(input(\"Enter your numeric grade for one calculus course\")))\n",
    "sta_grade = (float(input(\"Enter your numeric grade for STA 2000\")))\n",
    "\n",
    "sum_total_grades = float((acc_grade + cis_grade + eco1_grade + eco2_grade + eng_grade + law_grade + cal_grade + sta_grade))\n",
    "avg_gpa = float(sum_total_grades / 8)\n",
    "print(f'That was hard work! Your average GPA is {avg_gpa: .2f}')\n",
    "\n",
    "credits_completed = float(input(\"How many credits did you complete?\"))\n",
    "baruch_gpa = float(input(\"What is your overall Baruch GPA?\"))\n",
    "\n",
    "if (credits_completed >= 45):\n",
    "    if(avg_gpa >= 2.25):\n",
    "        print(\"You are eligible to enter Zicklin! Congratulations!\")\n",
    "else:\n",
    "    print(\"You are not eligible for Zicklin\")"
   ]
  }
 ],
 "metadata": {
  "kernelspec": {
   "display_name": "Python 3",
   "language": "python",
   "name": "python3"
  },
  "language_info": {
   "codemirror_mode": {
    "name": "ipython",
    "version": 3
   },
   "file_extension": ".py",
   "mimetype": "text/x-python",
   "name": "python",
   "nbconvert_exporter": "python",
   "pygments_lexer": "ipython3",
   "version": "3.8.5"
  }
 },
 "nbformat": 4,
 "nbformat_minor": 4
}
